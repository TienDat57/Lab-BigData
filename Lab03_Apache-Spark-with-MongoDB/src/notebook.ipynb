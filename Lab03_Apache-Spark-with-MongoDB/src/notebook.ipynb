{
  "cells": [
    {
      "cell_type": "markdown",
      "metadata": {
        "id": "tChWFAUf8CAg"
      },
      "source": [
        "# Part 0: Setting up"
      ]
    },
    {
      "cell_type": "markdown",
      "metadata": {
        "id": "867SO8F24Enh"
      },
      "source": [
        "## Install and start MongoDB"
      ]
    },
    {
      "cell_type": "code",
      "execution_count": null,
      "metadata": {
        "id": "enbk0ZkjoxPO"
      },
      "outputs": [],
      "source": [
        "!apt install -qq mongodb\n",
        "!service mongodb start"
      ]
    },
    {
      "cell_type": "markdown",
      "metadata": {
        "id": "7dph1tTf4HkU"
      },
      "source": [
        "## Download dataset and push to our mongodb "
      ]
    },
    {
      "cell_type": "code",
      "execution_count": null,
      "metadata": {
        "id": "cy-r-AQ2pZM0"
      },
      "outputs": [],
      "source": [
        "# It's already the 21st century and people are very impatient, so they use Brotli for text and Zstd for everything else.\n",
        "# Reference: https://github.com/google/brotli\n",
        "!apt-get install -qq brotli"
      ]
    },
    {
      "cell_type": "code",
      "execution_count": null,
      "metadata": {
        "id": "XNT5v0BkpMWa"
      },
      "outputs": [],
      "source": [
        "!wget -q https://csc14118.github.io/thuoc_raw.json.br\n",
        "!wget -q https://csc14118.github.io/gia_ke_khai_raw.json.br\n",
        "!wget -q https://csc14118.github.io/movies_lang.json.br "
      ]
    },
    {
      "cell_type": "code",
      "execution_count": null,
      "metadata": {
        "id": "qqVJXO4TpQDZ"
      },
      "outputs": [],
      "source": [
        "!brotli -d *.br"
      ]
    },
    {
      "cell_type": "code",
      "execution_count": null,
      "metadata": {
        "id": "p2AGMuFp6x2u"
      },
      "outputs": [],
      "source": [
        "!pip install -q pymongo"
      ]
    },
    {
      "cell_type": "code",
      "execution_count": null,
      "metadata": {
        "id": "4lGAVCVCpz_9"
      },
      "outputs": [],
      "source": [
        "import json\n",
        "from pymongo import MongoClient\n",
        "\n",
        "client = MongoClient()\n",
        "\n",
        "# Creation of the new database\n",
        "db = client['input_data']\n",
        "\n",
        "collection_name = [\"gia_ke_khai_raw\", \"movies_lang\", \"thuoc_raw\"]\n",
        "\n",
        "# Push our data to mongodb\n",
        "for data in collection_name:\n",
        "    collection = db[data]\n",
        "    chunks = json.load(open(f'{data}.json'))\n",
        "    collection.insert_many(chunks)\n",
        "\n",
        "# Create a dummy database to test\n",
        "db = client['dummy']\n",
        "db['chunks'].insert_many([{'Banh xeo': 'Rat ngon'},{'Banh bao': 'Cung ngon'}])\n",
        "\n",
        "client.list_database_names()"
      ]
    },
    {
      "cell_type": "markdown",
      "metadata": {
        "id": "BPgvKHYi46Zh"
      },
      "source": [
        "## Install pyspark"
      ]
    },
    {
      "cell_type": "code",
      "execution_count": null,
      "metadata": {
        "id": "3BQOC48fkpMX"
      },
      "outputs": [],
      "source": [
        "!apt-get install openjdk-8-jdk-headless -qq > /dev/null\n",
        "!wget -q \"https://archive.apache.org/dist/spark/spark-3.1.1/spark-3.1.1-bin-hadoop2.7.tgz\"\n",
        "!tar xf spark-3.1.1-bin-hadoop2.7.tgz\n",
        "!pip install -q findspark"
      ]
    },
    {
      "cell_type": "code",
      "execution_count": null,
      "metadata": {
        "id": "nJFxkwtAkt3U"
      },
      "outputs": [],
      "source": [
        "import os\n",
        "os.environ[\"JAVA_HOME\"] = \"/usr/lib/jvm/java-8-openjdk-amd64\"\n",
        "os.environ[\"SPARK_HOME\"] = \"spark-3.1.1-bin-hadoop2.7\"\n",
        "import findspark\n",
        "findspark.init()\n",
        "findspark.find()"
      ]
    },
    {
      "cell_type": "code",
      "execution_count": null,
      "metadata": {
        "id": "qgjKoGjDzZgu"
      },
      "outputs": [],
      "source": [
        "import pyspark\n",
        "print(pyspark.__version__)"
      ]
    },
    {
      "cell_type": "markdown",
      "metadata": {
        "id": "N4x3MtDq494s"
      },
      "source": [
        "## Dirty trick to connect spark to our mongodb\n",
        "\n",
        "In industry environment, please read the docs carefully to seting up these complicated things."
      ]
    },
    {
      "cell_type": "code",
      "execution_count": null,
      "metadata": {
        "id": "J3kZd3CZNIY-"
      },
      "outputs": [],
      "source": [
        "!rm $SPARK_HOME/jars/mongo*.jar\n",
        "!rm $SPARK_HOME/jars/bson*.jar"
      ]
    },
    {
      "cell_type": "code",
      "execution_count": null,
      "metadata": {
        "id": "wPavC4NBR0fn"
      },
      "outputs": [],
      "source": [
        "!cd $SPARK_HOME/jars && wget https://repo1.maven.org/maven2/org/mongodb/spark/mongo-spark-connector_2.12/10.1.1/mongo-spark-connector_2.12-10.1.1.jar\n",
        "!cd $SPARK_HOME/jars && wget https://repo1.maven.org/maven2/org/mongodb/mongodb-driver/3.12.12/mongodb-driver-3.12.12.jar\n",
        "!cd $SPARK_HOME/jars && wget https://repo1.maven.org/maven2/org/mongodb/mongo-java-driver/3.12.12/mongo-java-driver-3.12.12.jar\n",
        "!cd $SPARK_HOME/jars && wget https://repo1.maven.org/maven2/org/mongodb/bson/4.6.0/bson-4.6.0.jar"
      ]
    },
    {
      "cell_type": "code",
      "execution_count": null,
      "metadata": {
        "id": "E9Z415K4fRED"
      },
      "outputs": [],
      "source": [
        "from pyspark.shell import spark\n",
        "from pyspark import SparkContext,SparkConf\n",
        "\n",
        "uri = \"mongodb://localhost:27017/input_data\"\n",
        "\n",
        "from pyspark.sql import SparkSession\n",
        "\n",
        "spark_jb = \"org.mongodb.spark:mongo-spark-connector_2.12:10.1.1\"\n",
        "my_spark = SparkSession \\\n",
        "    .builder \\\n",
        "    .config(\"spark.executor.memory\", \"1g\") \\\n",
        "    .appName(\"csc14112\") \\\n",
        "    .config(\"spark.mongodb.read.connection.uri\", uri) \\\n",
        "    .config(\"spark.mongodb.write.connection.uri\", uri) \\\n",
        "    .getOrCreate()"
      ]
    },
    {
      "cell_type": "code",
      "execution_count": null,
      "metadata": {
        "id": "VIcRV6NEfdM5"
      },
      "outputs": [],
      "source": [
        "# Test read data from our mongo db\n",
        "p = my_spark.read.format(\"mongodb\").option(\"database\",\"dummy\").option(\"collection\", \"chunk\").load()\n",
        "p.printSchema()"
      ]
    },
    {
      "cell_type": "code",
      "execution_count": null,
      "metadata": {
        "id": "7QDbkF7Wpl4f"
      },
      "outputs": [],
      "source": [
        "p.show()"
      ]
    },
    {
      "cell_type": "markdown",
      "metadata": {
        "id": "OOBcV-zg8IPv"
      },
      "source": [
        "# Part 1: Introduction to PySpark"
      ]
    },
    {
      "cell_type": "markdown",
      "metadata": {
        "id": "LejimkJO8u6A"
      },
      "source": [
        "\n",
        "In this lab assignment, we will work with a movie dataset loaded into our MongoDB at `input_data.movies_lang`. We will use PySpark RDD and DataFrame to perform the following tasks:"
      ]
    },
    {
      "cell_type": "code",
      "execution_count": null,
      "metadata": {
        "id": "29SbDUgzQksL"
      },
      "outputs": [],
      "source": [
        "# YOUR CODE HERE\n",
        "# Read data from mongodb\n",
        "data = my_spark.read.format(\"mongodb\").option(\"database\",\"input_data\").option(\"collection\", \"movies_lang\").load()\n",
        "data_rdd = data.rdd\n",
        "data.printSchema()\n",
        "data.show()"
      ]
    },
    {
      "cell_type": "markdown",
      "metadata": {
        "id": "mjQyMcL59FwB"
      },
      "source": [
        "### (a) Count the number of movies by country. Sort by count in decreasing order."
      ]
    },
    {
      "cell_type": "code",
      "execution_count": null,
      "metadata": {
        "id": "qOKzEl44nj6V"
      },
      "outputs": [],
      "source": [
        "# YOUR CODE HERE\n",
        "# Group by country in data then sort by count in decreasing oder\n",
        "data.groupBy(\"country\").count().sort(\"count\", ascending=False).show()"
      ]
    },
    {
      "cell_type": "markdown",
      "metadata": {
        "id": "Gi9OiL_K8610"
      },
      "source": [
        "### (b) Return the titles of the movies produced in France."
      ]
    },
    {
      "cell_type": "code",
      "execution_count": null,
      "metadata": {
        "id": "nuIk85yf-5EX"
      },
      "outputs": [],
      "source": [
        "# YOUR CODE HERE\n",
        "# First we get row have row.country = \"FR\". Then get row.title\n",
        "res = data_rdd.filter(lambda row: row.country == \"FR\").map(lambda row: row.title)\n",
        "res.collect()"
      ]
    },
    {
      "cell_type": "markdown",
      "metadata": {
        "id": "RWIrwllI-9LI"
      },
      "source": [
        "### (c) Return the title of the movies of which Sofia Coppola is one of the actresses. "
      ]
    },
    {
      "cell_type": "code",
      "execution_count": null,
      "metadata": {
        "id": "XznCrQxy-858"
      },
      "outputs": [],
      "source": [
        "# YOUR CODE HERE\n",
        "# Sofia Coppola is one of the actresses in actor but actors have more actor so we for loop to get row have any Sofia Coppola then get title\n",
        "filtered_actor = data_rdd.filter(lambda row: any(actor.first_name == \"Sofia\" and actor.last_name == \"Coppola\" for actor in row.actors)).map(lambda row: row.title)\n",
        "filtered_actor.collect()\n"
      ]
    },
    {
      "cell_type": "markdown",
      "metadata": {
        "id": "rqtvCzPV_Con"
      },
      "source": [
        "### (d) Return the names and birth dates of the directors of movies produced in France.\n"
      ]
    },
    {
      "cell_type": "code",
      "execution_count": null,
      "metadata": {
        "id": "ZBzAdOj8_Cb3"
      },
      "outputs": [],
      "source": [
        "# YOUR CODE HERE\n",
        "# First we need get row with row[\"country\"] = \"FR\". Then we map first name, last name and birth_date of director\n",
        "res = data_rdd.filter(lambda row: row[\"country\"] == \"FR\").map(lambda row: (row[\"director\"][\"first_name\"] + \" \" + row[\"director\"][\"last_name\"], row[\"director\"][\"birth_date\"]))\n",
        "res.collect()"
      ]
    },
    {
      "cell_type": "markdown",
      "metadata": {
        "id": "jtYnldOV_MXj"
      },
      "source": [
        "### (e) Return the average number of actors in a film.\n"
      ]
    },
    {
      "cell_type": "code",
      "execution_count": null,
      "metadata": {
        "id": "RQmY486U_PaW"
      },
      "outputs": [],
      "source": [
        "# YOUR CODE HERE\n",
        "data.select(\"actors\").rdd.map(lambda x: len(x[0])).mean()"
      ]
    },
    {
      "cell_type": "markdown",
      "metadata": {
        "id": "vbZmOOAz_RDj"
      },
      "source": [
        "### (f) Return the name of the actor that acted in the most movies."
      ]
    },
    {
      "cell_type": "code",
      "execution_count": null,
      "metadata": {
        "id": "V6ZKk9Ts_StS"
      },
      "outputs": [],
      "source": [
        "# YOUR CODE HERE\n",
        "actor_flat = data.select(\"actors\").rdd.flatMap(lambda x: x[0])\n",
        "actor_count = actor_flat.map(lambda x: (x, 1)).reduceByKey(lambda x, y: x + y)\n",
        "actor_count.sortBy(lambda x: x[1], ascending=False).take(1)"
      ]
    },
    {
      "cell_type": "markdown",
      "metadata": {
        "id": "1p8qOmwE8MU8"
      },
      "source": [
        "# Part 2: Real-world Data Manipulation"
      ]
    },
    {
      "cell_type": "markdown",
      "metadata": {
        "id": "6Xjjk5Sg_xuO"
      },
      "source": [
        "In this part of the lab, we will work with two collections in our MongoDB: `gia_ke_khai_raw` and `thuoc_raw` loaded at `input_data.gia_ke_khai_raw` and `input_data.thuoc_raw` respectively. We will use PySpark RDD and DataFrame to perform the following tasks:"
      ]
    },
    {
      "cell_type": "markdown",
      "metadata": {
        "id": "QJXKtUUkHDLn"
      },
      "source": [
        "### (a)  Read the datasets into a DataFrame and print out the schema and the number of records."
      ]
    },
    {
      "cell_type": "code",
      "execution_count": null,
      "metadata": {
        "id": "BsEKB1yk_o7d"
      },
      "outputs": [],
      "source": [
        "# YOUR CODE HERE\n",
        "data_thuoc = my_spark.read.format(\"mongodb\").option(\"database\",\"input_data\").option(\"collection\", \"thuoc_raw\").load()\n",
        "data_gia = my_spark.read.format(\"mongodb\").option(\"database\",\"input_data\").option(\"collection\", \"gia_ke_khai_raw\").load()\n",
        "data_thuoc.printSchema()\n",
        "data_gia.printSchema()"
      ]
    },
    {
      "cell_type": "markdown",
      "metadata": {
        "id": "KrwAxI--bzks"
      },
      "source": [
        "### (b) Show all records in the `thuoc_raw` collection that have the same active pharmaceutical ingredient (API) in their `hoatChat` field as their medicine name.\n",
        "\n",
        "\n",
        "Notes: In the context of medication, API stands for Active Pharmaceutical Ingredient, which is the biologically active component in a drug that produces the intended therapeutic effect. In other words, it is the chemical substance that gives a medicine its medicinal properties."
      ]
    },
    {
      "cell_type": "code",
      "execution_count": null,
      "metadata": {
        "id": "myaTwNj8byW0"
      },
      "outputs": [],
      "source": [
        "# YOUR CODE HERE\n",
        "data_thuoc_rdd = data_thuoc.rdd\n",
        "anwser_b = data_thuoc_rdd.filter(lambda row: row.tenThuoc == row.hoatChat).map(lambda row: (row.tenThuoc,row.hoatChat))\n",
        "anwser_b.collect()"
      ]
    },
    {
      "cell_type": "markdown",
      "metadata": {
        "id": "9e0N9KtvIIS4"
      },
      "source": [
        "### (c) Create a new DataFrame from the `thuoc_raw` collection that splits the API in the `hoatChat` field into multiple rows. For example, \"paracetamol\" is the API in \"Paracetamol 500 mg,\" and \"amoxicillin\" is the API in various medications such as \"Amogentine 500mg/125mg,\" \"Augbactam 1g/200mg,\" and \"Viamomentin.\" The resulting DataFrame should have two columns: `hoatChat` and `thuocTuongUng` as a list. After processing the data, write it back to our MongoDB at `output_data.thuocthaythe`."
      ]
    },
    {
      "cell_type": "code",
      "execution_count": null,
      "metadata": {
        "id": "BQzlRdrKag1A"
      },
      "outputs": [],
      "source": [
        "# YOUR CODE HERE\n",
        "reduce_data = data_thuoc.select(\"hoatChat\", \"tenThuoc\").rdd.flatMap(lambda x: [(i, x[1]) for i in x[0].split(\",\")]).toDF([\"hoatChat\", \"thuocTuongUng\"])\n",
        "reduce_data.show()\n",
        "\n",
        "# Write dataframe back to mongodb at output_data.thuocthaythe\n",
        "reduce_data.write.format(\"mongodb\").option(\"database\",\"output_data\").option(\"collection\", \"thuocthaythe\").mode(\"overwrite\").save()"
      ]
    },
    {
      "cell_type": "code",
      "source": [
        "# check data in mongodb of collection output_data.thuocthaythe\n",
        "df = my_spark.read.format(\"mongodb\").option(\"database\",\"output_data\").option(\"collection\", \"thuocthaythe\").load()\n",
        "df.show()"
      ],
      "metadata": {
        "id": "3HQRkDW_HuuA"
      },
      "execution_count": null,
      "outputs": []
    },
    {
      "cell_type": "markdown",
      "metadata": {
        "id": "sQ00j4TuHosd"
      },
      "source": [
        "### (d) Create new DataFrame from two mentioned above that contains  `tenThuoc`, `hoatChat`, `dongGoi`, `dvt` and `giaBan`. After process the data, write it back to our mongodb at `output_data.giathuoc`."
      ]
    },
    {
      "cell_type": "code",
      "execution_count": null,
      "metadata": {
        "id": "O8YNrN4lAZa5"
      },
      "outputs": [],
      "source": [
        "# YOUR CODE HERE\n",
        "# Create dataframe from rdd of data_thuoc and data_gia \n",
        "# - Select columns of data_thuoc: id, tenThuoc, hoatChat, dongGoi -> to dataframe df_thuoc\n",
        "# - Select columns of data_gia: sdk, dvt, giaBan -> to dataframe df_gia\n",
        "df_thuoc = data_thuoc.rdd.map(lambda x: (x[\"id\"], x[\"tenThuoc\"], x[\"hoatChat\"], x[\"dongGoi\"])).toDF([\"id\", \"tenThuoc\", \"hoatChat\", \"dongGoi\"])\n",
        "df_gia = data_gia.rdd.map(lambda x: (x[\"sdk\"], x[\"dvt\"], x[\"giaBan\"])).toDF([\"sdk\", \"dvt\", \"giaBan\"])\n",
        "\n",
        "# Join df_thuoc and df_gia on id = sdk\n",
        "df_thuoc_gia = df_thuoc.join(df_gia, df_thuoc.id == df_gia.sdk, \"inner\")\n",
        "\n",
        "# create new dataframe from rdd of df_thuoc_gia\n",
        "df = spark.createDataFrame(df_thuoc_gia.rdd, df_thuoc_gia.schema)\n",
        "\n",
        "# choose id primary key for mongodb\n",
        "df = df.withColumn(\"_id\", df.id)\n",
        "\n",
        "# drop column sdk, id in df_thuoc_gia\n",
        "df = df.drop(\"sdk\", \"id\")\n",
        "\n",
        "# show dataframe\n",
        "df.show()\n",
        "\n",
        "# Write dataframe back to mongodb at output_data.giathuoc\n",
        "df.write.format(\"mongodb\").option(\"database\",\"output_data\").option(\"collection\", \"giathuoc\") .mode(\"overwrite\").save()\n"
      ]
    },
    {
      "cell_type": "code",
      "source": [
        "# check data in mongodb of collection output_data.giathuoc\n",
        "df = my_spark.read.format(\"mongodb\").option(\"database\",\"output_data\").option(\"collection\", \"giathuoc\").load()\n",
        "df.show()"
      ],
      "metadata": {
        "id": "C4-KNtK4_lx2"
      },
      "execution_count": null,
      "outputs": []
    }
  ],
  "metadata": {
    "accelerator": "GPU",
    "colab": {
      "private_outputs": true,
      "provenance": []
    },
    "gpuClass": "standard",
    "kernelspec": {
      "display_name": "Python 3",
      "name": "python3"
    },
    "language_info": {
      "codemirror_mode": {
        "name": "ipython",
        "version": 3
      },
      "file_extension": ".py",
      "mimetype": "text/x-python",
      "name": "python",
      "nbconvert_exporter": "python",
      "pygments_lexer": "ipython3",
      "version": "3.8.8"
    }
  },
  "nbformat": 4,
  "nbformat_minor": 0
}